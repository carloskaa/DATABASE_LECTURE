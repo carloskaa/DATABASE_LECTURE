{
 "cells": [
  {
   "cell_type": "markdown",
   "id": "8756f1cc",
   "metadata": {},
   "source": [
    "# Introducción práctica a pandas — ETL con pandas\n",
    "\n",
    "Este cuaderno enseña las funcionalidades más importantes de **pandas** y muestra un ejemplo práctico de **ETL** (Extract, Transform, Load)\n",
    "usando un archivo CSV de ejemplo. Al final exportamos la tabla lista para subir a una base de datos (SQLite en el ejemplo).\n",
    "\n",
    "## Objetivos\n",
    "\n",
    "- Presentar conceptos clave: `Series`, `DataFrame`, lectura/escritura, inspección y limpieza.\n",
    "- Transformaciones comunes: conversión de tipos, manejo de nulos, renombrado, agregaciones y merges.\n",
    "- Ejemplo completo de ETL: leer CSV -> limpiar/transformar -> exportar a SQLite.\n",
    "\n",
    "El cuaderno está pensado para usarse en clase: ejecutar celda por celda, experimentar y comentar resultados."
   ]
  },
  {
   "cell_type": "code",
   "execution_count": 2,
   "id": "7af2c9ff",
   "metadata": {},
   "outputs": [
    {
     "data": {
      "text/plain": [
       "'2.3.3'"
      ]
     },
     "execution_count": 2,
     "metadata": {},
     "output_type": "execute_result"
    }
   ],
   "source": [
    "# Imports básicos\n",
    "import pandas as pd\n",
    "import numpy as np\n",
    "from sqlalchemy import create_engine\n",
    "\n",
    "# Mostrar versión\n",
    "pd.__version__"
   ]
  },
  {
   "cell_type": "markdown",
   "id": "7ac8385c",
   "metadata": {},
   "source": [
    "## Conceptos básicos\n",
    "\n",
    "- **Series**: 1-dim (etiquetas + valores).\n",
    "- **DataFrame**: 2-dim, tabla con filas y columnas.\n",
    "\n",
    "Práctica: crear Series y DataFrame pequeño."
   ]
  },
  {
   "cell_type": "code",
   "execution_count": 3,
   "id": "4f273f05",
   "metadata": {},
   "outputs": [
    {
     "name": "stdout",
     "output_type": "stream",
     "text": [
      "Series:\n",
      " a    10\n",
      "b    20\n",
      "c    30\n",
      "dtype: int64\n",
      "\n",
      "DataFrame:\n",
      "   producto  precio  vendidos\n",
      "0        A     100         5\n",
      "1        B     150         3\n",
      "2        C     200         8\n"
     ]
    },
    {
     "data": {
      "application/vnd.microsoft.datawrangler.viewer.v0+json": {
       "columns": [
        {
         "name": "index",
         "rawType": "int64",
         "type": "integer"
        },
        {
         "name": "producto",
         "rawType": "object",
         "type": "string"
        },
        {
         "name": "precio",
         "rawType": "int64",
         "type": "integer"
        },
        {
         "name": "vendidos",
         "rawType": "int64",
         "type": "integer"
        }
       ],
       "ref": "f484078a-3c91-4ce9-8279-9c4e4b05f8d9",
       "rows": [
        [
         "0",
         "A",
         "100",
         "5"
        ],
        [
         "1",
         "B",
         "150",
         "3"
        ],
        [
         "2",
         "C",
         "200",
         "8"
        ]
       ],
       "shape": {
        "columns": 3,
        "rows": 3
       }
      },
      "text/html": [
       "<div>\n",
       "<style scoped>\n",
       "    .dataframe tbody tr th:only-of-type {\n",
       "        vertical-align: middle;\n",
       "    }\n",
       "\n",
       "    .dataframe tbody tr th {\n",
       "        vertical-align: top;\n",
       "    }\n",
       "\n",
       "    .dataframe thead th {\n",
       "        text-align: right;\n",
       "    }\n",
       "</style>\n",
       "<table border=\"1\" class=\"dataframe\">\n",
       "  <thead>\n",
       "    <tr style=\"text-align: right;\">\n",
       "      <th></th>\n",
       "      <th>producto</th>\n",
       "      <th>precio</th>\n",
       "      <th>vendidos</th>\n",
       "    </tr>\n",
       "  </thead>\n",
       "  <tbody>\n",
       "    <tr>\n",
       "      <th>0</th>\n",
       "      <td>A</td>\n",
       "      <td>100</td>\n",
       "      <td>5</td>\n",
       "    </tr>\n",
       "    <tr>\n",
       "      <th>1</th>\n",
       "      <td>B</td>\n",
       "      <td>150</td>\n",
       "      <td>3</td>\n",
       "    </tr>\n",
       "    <tr>\n",
       "      <th>2</th>\n",
       "      <td>C</td>\n",
       "      <td>200</td>\n",
       "      <td>8</td>\n",
       "    </tr>\n",
       "  </tbody>\n",
       "</table>\n",
       "</div>"
      ],
      "text/plain": [
       "  producto  precio  vendidos\n",
       "0        A     100         5\n",
       "1        B     150         3\n",
       "2        C     200         8"
      ]
     },
     "execution_count": 3,
     "metadata": {},
     "output_type": "execute_result"
    }
   ],
   "source": [
    "# Series y DataFrame de ejemplo\n",
    "s = pd.Series([10,20,30], index=['a','b','c'])\n",
    "print('Series:\\n', s)\n",
    "\n",
    "df = pd.DataFrame({'producto':['A','B','C'], 'precio':[100,150,200], 'vendidos':[5,3,8]})\n",
    "print('\\nDataFrame:\\n', df)\n",
    "\n",
    "df"
   ]
  },
  {
   "cell_type": "markdown",
   "id": "5e5a302a",
   "metadata": {},
   "source": [
    "## Leer datos (I/O)\n",
    "\n",
    "- `pd.read_csv()` para CSV.\n",
    "- `df.head()`, `df.info()`, `df.describe()` y `df.dtypes` para inspección rápida.\n",
    "\n",
    "A continuación cargamos un CSV de ejemplo (ya incluido en este cuaderno)."
   ]
  },
  {
   "cell_type": "code",
   "execution_count": 4,
   "id": "db667d92",
   "metadata": {},
   "outputs": [
    {
     "name": "stdout",
     "output_type": "stream",
     "text": [
      "CSV creado en sample_sales2.csv\n"
     ]
    },
    {
     "data": {
      "application/vnd.microsoft.datawrangler.viewer.v0+json": {
       "columns": [
        {
         "name": "index",
         "rawType": "int64",
         "type": "integer"
        },
        {
         "name": "order_id",
         "rawType": "int64",
         "type": "integer"
        },
        {
         "name": "date",
         "rawType": "object",
         "type": "string"
        },
        {
         "name": "customer",
         "rawType": "object",
         "type": "string"
        },
        {
         "name": "product",
         "rawType": "object",
         "type": "string"
        },
        {
         "name": "quantity",
         "rawType": "int64",
         "type": "integer"
        },
        {
         "name": "unit_price",
         "rawType": "float64",
         "type": "float"
        },
        {
         "name": "region",
         "rawType": "object",
         "type": "string"
        }
       ],
       "ref": "be4945f0-7c9f-4d42-9f2a-556b3a19f24c",
       "rows": [
        [
         "0",
         "1001",
         "2025-09-30",
         "Juan",
         "Panel A",
         "2",
         "250.0",
         "Bogotá"
        ],
        [
         "1",
         "1002",
         "2025-09-30",
         "María",
         "Panel B",
         "1",
         "300.0",
         "Medellín"
        ],
        [
         "2",
         "1003",
         "2025-10-01",
         "Carlos",
         "Inversor X",
         "1",
         "1200.0",
         "Bogotá"
        ],
        [
         "3",
         "1004",
         "2025-10-01",
         "Ana",
         "Panel A",
         "3",
         "250.0",
         "Cali"
        ],
        [
         "4",
         "1005",
         "2025-10-02",
         "María",
         "Inversor X",
         "2",
         "1200.0",
         "Bogotá"
        ]
       ],
       "shape": {
        "columns": 7,
        "rows": 5
       }
      },
      "text/html": [
       "<div>\n",
       "<style scoped>\n",
       "    .dataframe tbody tr th:only-of-type {\n",
       "        vertical-align: middle;\n",
       "    }\n",
       "\n",
       "    .dataframe tbody tr th {\n",
       "        vertical-align: top;\n",
       "    }\n",
       "\n",
       "    .dataframe thead th {\n",
       "        text-align: right;\n",
       "    }\n",
       "</style>\n",
       "<table border=\"1\" class=\"dataframe\">\n",
       "  <thead>\n",
       "    <tr style=\"text-align: right;\">\n",
       "      <th></th>\n",
       "      <th>order_id</th>\n",
       "      <th>date</th>\n",
       "      <th>customer</th>\n",
       "      <th>product</th>\n",
       "      <th>quantity</th>\n",
       "      <th>unit_price</th>\n",
       "      <th>region</th>\n",
       "    </tr>\n",
       "  </thead>\n",
       "  <tbody>\n",
       "    <tr>\n",
       "      <th>0</th>\n",
       "      <td>1001</td>\n",
       "      <td>2025-09-30</td>\n",
       "      <td>Juan</td>\n",
       "      <td>Panel A</td>\n",
       "      <td>2</td>\n",
       "      <td>250.0</td>\n",
       "      <td>Bogotá</td>\n",
       "    </tr>\n",
       "    <tr>\n",
       "      <th>1</th>\n",
       "      <td>1002</td>\n",
       "      <td>2025-09-30</td>\n",
       "      <td>María</td>\n",
       "      <td>Panel B</td>\n",
       "      <td>1</td>\n",
       "      <td>300.0</td>\n",
       "      <td>Medellín</td>\n",
       "    </tr>\n",
       "    <tr>\n",
       "      <th>2</th>\n",
       "      <td>1003</td>\n",
       "      <td>2025-10-01</td>\n",
       "      <td>Carlos</td>\n",
       "      <td>Inversor X</td>\n",
       "      <td>1</td>\n",
       "      <td>1200.0</td>\n",
       "      <td>Bogotá</td>\n",
       "    </tr>\n",
       "    <tr>\n",
       "      <th>3</th>\n",
       "      <td>1004</td>\n",
       "      <td>2025-10-01</td>\n",
       "      <td>Ana</td>\n",
       "      <td>Panel A</td>\n",
       "      <td>3</td>\n",
       "      <td>250.0</td>\n",
       "      <td>Cali</td>\n",
       "    </tr>\n",
       "    <tr>\n",
       "      <th>4</th>\n",
       "      <td>1005</td>\n",
       "      <td>2025-10-02</td>\n",
       "      <td>María</td>\n",
       "      <td>Inversor X</td>\n",
       "      <td>2</td>\n",
       "      <td>1200.0</td>\n",
       "      <td>Bogotá</td>\n",
       "    </tr>\n",
       "  </tbody>\n",
       "</table>\n",
       "</div>"
      ],
      "text/plain": [
       "   order_id        date customer     product  quantity  unit_price    region\n",
       "0      1001  2025-09-30     Juan     Panel A         2       250.0    Bogotá\n",
       "1      1002  2025-09-30    María     Panel B         1       300.0  Medellín\n",
       "2      1003  2025-10-01   Carlos  Inversor X         1      1200.0    Bogotá\n",
       "3      1004  2025-10-01      Ana     Panel A         3       250.0      Cali\n",
       "4      1005  2025-10-02    María  Inversor X         2      1200.0    Bogotá"
      ]
     },
     "execution_count": 4,
     "metadata": {},
     "output_type": "execute_result"
    }
   ],
   "source": [
    "# Creamos un CSV de ejemplo para la práctica\n",
    "csv_path = 'sample_sales2.csv'\n",
    "sample = pd.DataFrame({\n",
    "    'order_id': [1001,1002,1003,1004,1005,1006],\n",
    "    'date': ['2025-09-30','2025-09-30','2025-10-01','2025-10-01','2025-10-02','2025-10-02'],\n",
    "    'customer': ['Juan','María','Carlos','Ana','María','Juan'],\n",
    "    'product': ['Panel A','Panel B','Inversor X','Panel A','Inversor X','Panel B'],\n",
    "    'quantity': [2,1,1,3,2,1],\n",
    "    'unit_price': [250.0,300.0,1200.0,250.0,1200.0,300.0],\n",
    "    'region': ['Bogotá','Medellín','Bogotá','Cali','Bogotá','Medellín']\n",
    "})\n",
    "sample.to_csv(csv_path, index=False)\n",
    "print('CSV creado en', csv_path)\n",
    "sample.head()"
   ]
  },
  {
   "cell_type": "code",
   "execution_count": 5,
   "id": "bcacab83",
   "metadata": {},
   "outputs": [
    {
     "name": "stdout",
     "output_type": "stream",
     "text": [
      "Primeras filas:\n",
      "   order_id        date customer     product  quantity  unit_price    region\n",
      "0      1001  2025-09-30     Juan     Panel A         2       250.0    Bogotá\n",
      "1      1002  2025-09-30    María     Panel B         1       300.0  Medellín\n",
      "2      1003  2025-10-01   Carlos  Inversor X         1      1200.0    Bogotá\n",
      "3      1004  2025-10-01      Ana     Panel A         3       250.0      Cali\n",
      "4      1005  2025-10-02    María  Inversor X         2      1200.0    Bogotá\n",
      "\n",
      "Info:\n",
      "<class 'pandas.core.frame.DataFrame'>\n",
      "RangeIndex: 6 entries, 0 to 5\n",
      "Data columns (total 7 columns):\n",
      " #   Column      Non-Null Count  Dtype  \n",
      "---  ------      --------------  -----  \n",
      " 0   order_id    6 non-null      int64  \n",
      " 1   date        6 non-null      object \n",
      " 2   customer    6 non-null      object \n",
      " 3   product     6 non-null      object \n",
      " 4   quantity    6 non-null      int64  \n",
      " 5   unit_price  6 non-null      float64\n",
      " 6   region      6 non-null      object \n",
      "dtypes: float64(1), int64(2), object(4)\n",
      "memory usage: 464.0+ bytes\n",
      "\n",
      "Descripción numérica:\n",
      "          order_id  quantity   unit_price\n",
      "count     6.000000  6.000000     6.000000\n",
      "mean   1003.500000  1.666667   583.333333\n",
      "std       1.870829  0.816497   478.191036\n",
      "min    1001.000000  1.000000   250.000000\n",
      "25%    1002.250000  1.000000   262.500000\n",
      "50%    1003.500000  1.500000   300.000000\n",
      "75%    1004.750000  2.000000   975.000000\n",
      "max    1006.000000  3.000000  1200.000000\n"
     ]
    }
   ],
   "source": [
    "# Leer el CSV y hacer inspección básica\n",
    "df = pd.read_csv(csv_path)\n",
    "print('Primeras filas:')\n",
    "print(df.head())\n",
    "\n",
    "print('\\nInfo:')\n",
    "df.info()\n",
    "\n",
    "print('\\nDescripción numérica:')\n",
    "print(df.describe())"
   ]
  },
  {
   "cell_type": "markdown",
   "id": "b1405afa",
   "metadata": {},
   "source": [
    "### Tipos de datos y fechas\n",
    "\n",
    "- Convierte columnas con `astype()`.\n",
    "- Para fechas usar `pd.to_datetime()` y luego `dt` accessor para extraer día/mes/año.\n"
   ]
  },
  {
   "cell_type": "code",
   "execution_count": 6,
   "id": "9d43b596",
   "metadata": {},
   "outputs": [
    {
     "name": "stdout",
     "output_type": "stream",
     "text": [
      "Antes:\n",
      "order_id        int64\n",
      "date           object\n",
      "customer       object\n",
      "product        object\n",
      "quantity        int64\n",
      "unit_price    float64\n",
      "region         object\n",
      "dtype: object\n",
      "\n",
      "Después:\n",
      "order_id               int64\n",
      "date          datetime64[ns]\n",
      "customer              object\n",
      "product               object\n",
      "quantity               int64\n",
      "unit_price           float64\n",
      "region                object\n",
      "dtype: object\n",
      "\n",
      "Con columnas de fecha:\n",
      "    order_id       date customer     product  quantity  unit_price    region  \\\n",
      "0      1001 2025-09-30     Juan     Panel A         2       250.0    Bogotá   \n",
      "1      1002 2025-09-30    María     Panel B         1       300.0  Medellín   \n",
      "2      1003 2025-10-01   Carlos  Inversor X         1      1200.0    Bogotá   \n",
      "3      1004 2025-10-01      Ana     Panel A         3       250.0      Cali   \n",
      "4      1005 2025-10-02    María  Inversor X         2      1200.0    Bogotá   \n",
      "\n",
      "   year  month  \n",
      "0  2025      9  \n",
      "1  2025      9  \n",
      "2  2025     10  \n",
      "3  2025     10  \n",
      "4  2025     10  \n"
     ]
    }
   ],
   "source": [
    "# Convertir tipos y trabajar con fechas\n",
    "print('Antes:', df.dtypes, sep='\\n')\n",
    "\n",
    "df['date'] = pd.to_datetime(df['date'])\n",
    "df['quantity'] = df['quantity'].astype(int)\n",
    "df['unit_price'] = df['unit_price'].astype(float)\n",
    "\n",
    "print('\\nDespués:', df.dtypes, sep='\\n')\n",
    "\n",
    "# Extraer columnas de fecha\n",
    "df['year'] = df['date'].dt.year\n",
    "df['month'] = df['date'].dt.month\n",
    "print('\\nCon columnas de fecha:\\n', df.head())"
   ]
  },
  {
   "cell_type": "markdown",
   "id": "1584b20f",
   "metadata": {},
   "source": [
    "### Valores faltantes y duplicados\n",
    "\n",
    "- `df.isna().sum()` para contar nulos.\n",
    "- `df.dropna()` o `df.fillna()` para tratarlos.\n",
    "- `df.duplicated()` y `df.drop_duplicates()` para duplicados.\n"
   ]
  },
  {
   "cell_type": "code",
   "execution_count": 7,
   "id": "a582c666",
   "metadata": {},
   "outputs": [
    {
     "name": "stdout",
     "output_type": "stream",
     "text": [
      "   order_id       date customer     product  quantity  unit_price    region  \\\n",
      "0      1001 2025-09-30     Juan     Panel A       2.0       250.0    Bogotá   \n",
      "1      1002 2025-09-30    María     Panel B       1.0       300.0  Medellín   \n",
      "2      1003 2025-10-01   Carlos  Inversor X       1.0      1200.0    Bogotá   \n",
      "3      1004 2025-10-01      Ana     Panel A       3.0       250.0      Cali   \n",
      "4      1005 2025-10-02    María  Inversor X       2.0      1200.0    Bogotá   \n",
      "5      1006 2025-10-02     Juan     Panel B       1.0       300.0  Medellín   \n",
      "6      1007        NaT     None     Panel A       NaN       250.0      Cali   \n",
      "7      1001 2025-09-30     Juan     Panel A       2.0       250.0    Bogotá   \n",
      "\n",
      "     year  month  \n",
      "0  2025.0    9.0  \n",
      "1  2025.0    9.0  \n",
      "2  2025.0   10.0  \n",
      "3  2025.0   10.0  \n",
      "4  2025.0   10.0  \n",
      "5  2025.0   10.0  \n",
      "6     NaN    NaN  \n",
      "7  2025.0    9.0  \n",
      "\n",
      "Nulos por columna:\n",
      " order_id      0\n",
      "date          1\n",
      "customer      1\n",
      "product       0\n",
      "quantity      1\n",
      "unit_price    0\n",
      "region        0\n",
      "year          1\n",
      "month         1\n",
      "dtype: int64\n",
      "\n",
      "Dropna result:\n",
      "    order_id       date customer     product  quantity  unit_price    region  \\\n",
      "0      1001 2025-09-30     Juan     Panel A       2.0       250.0    Bogotá   \n",
      "1      1002 2025-09-30    María     Panel B       1.0       300.0  Medellín   \n",
      "2      1003 2025-10-01   Carlos  Inversor X       1.0      1200.0    Bogotá   \n",
      "3      1004 2025-10-01      Ana     Panel A       3.0       250.0      Cali   \n",
      "4      1005 2025-10-02    María  Inversor X       2.0      1200.0    Bogotá   \n",
      "5      1006 2025-10-02     Juan     Panel B       1.0       300.0  Medellín   \n",
      "7      1001 2025-09-30     Juan     Panel A       2.0       250.0    Bogotá   \n",
      "\n",
      "     year  month  \n",
      "0  2025.0    9.0  \n",
      "1  2025.0    9.0  \n",
      "2  2025.0   10.0  \n",
      "3  2025.0   10.0  \n",
      "4  2025.0   10.0  \n",
      "5  2025.0   10.0  \n",
      "7  2025.0    9.0  \n",
      "\n",
      "Fillna result:\n",
      "    order_id       date     customer     product  quantity  unit_price  \\\n",
      "0      1001 2025-09-30         Juan     Panel A       2.0       250.0   \n",
      "1      1002 2025-09-30        María     Panel B       1.0       300.0   \n",
      "2      1003 2025-10-01       Carlos  Inversor X       1.0      1200.0   \n",
      "3      1004 2025-10-01          Ana     Panel A       3.0       250.0   \n",
      "4      1005 2025-10-02        María  Inversor X       2.0      1200.0   \n",
      "5      1006 2025-10-02         Juan     Panel B       1.0       300.0   \n",
      "6      1007        NaT  Desconocido     Panel A       0.0       250.0   \n",
      "7      1001 2025-09-30         Juan     Panel A       2.0       250.0   \n",
      "\n",
      "     region    year  month  \n",
      "0    Bogotá  2025.0    9.0  \n",
      "1  Medellín  2025.0    9.0  \n",
      "2    Bogotá  2025.0   10.0  \n",
      "3      Cali  2025.0   10.0  \n",
      "4    Bogotá  2025.0   10.0  \n",
      "5  Medellín  2025.0   10.0  \n",
      "6      Cali     NaN    NaN  \n",
      "7    Bogotá  2025.0    9.0  \n",
      "\n",
      "Duplicados encontrados: 1\n",
      "\n",
      "Sin duplicados:\n",
      "    order_id       date customer     product  quantity  unit_price    region  \\\n",
      "0      1001 2025-09-30     Juan     Panel A       2.0       250.0    Bogotá   \n",
      "1      1002 2025-09-30    María     Panel B       1.0       300.0  Medellín   \n",
      "2      1003 2025-10-01   Carlos  Inversor X       1.0      1200.0    Bogotá   \n",
      "3      1004 2025-10-01      Ana     Panel A       3.0       250.0      Cali   \n",
      "4      1005 2025-10-02    María  Inversor X       2.0      1200.0    Bogotá   \n",
      "5      1006 2025-10-02     Juan     Panel B       1.0       300.0  Medellín   \n",
      "6      1007        NaT     None     Panel A       NaN       250.0      Cali   \n",
      "\n",
      "     year  month  \n",
      "0  2025.0    9.0  \n",
      "1  2025.0    9.0  \n",
      "2  2025.0   10.0  \n",
      "3  2025.0   10.0  \n",
      "4  2025.0   10.0  \n",
      "5  2025.0   10.0  \n",
      "6     NaN    NaN  \n"
     ]
    }
   ],
   "source": [
    "# Simular nulos y duplicados para demostración\n",
    "# Agregamos una fila con nulos y una duplicada\n",
    "extra = pd.DataFrame([{\n",
    "    'order_id':1007, 'date':pd.NaT, 'customer':None, 'product':'Panel A', 'quantity':np.nan, 'unit_price':250.0, 'region':'Cali'\n",
    "}])\n",
    "df2 = pd.concat([df, extra, df.iloc[[0]]], ignore_index=True)\n",
    "print(df2)\n",
    "\n",
    "print('\\nNulos por columna:\\n', df2.isna().sum())\n",
    "\n",
    "# Ejemplos de tratamiento\n",
    "cleaned = df2.dropna(subset=['date','customer'])\n",
    "filled = df2.fillna({'quantity':0, 'customer':'Desconocido'})\n",
    "print('\\nDropna result:\\n', cleaned)\n",
    "print('\\nFillna result:\\n', filled)\n",
    "\n",
    "# Duplicados\n",
    "print('\\nDuplicados encontrados:', df2.duplicated().sum())\n",
    "no_dup = df2.drop_duplicates()\n",
    "print('\\nSin duplicados:\\n', no_dup)"
   ]
  },
  {
   "cell_type": "markdown",
   "id": "364a9802",
   "metadata": {},
   "source": [
    "### Selección, filtrado y renombrado\n",
    "\n",
    "- `df[['col1','col2']]` para seleccionar columnas.\n",
    "- `df.loc[condición]` y `df.query()` para filtrar.\n",
    "- `df.rename(columns={...})` para renombrar.\n"
   ]
  },
  {
   "cell_type": "code",
   "execution_count": 8,
   "id": "27c1a685",
   "metadata": {},
   "outputs": [
    {
     "name": "stdout",
     "output_type": "stream",
     "text": [
      "   order_id       date customer     product  quantity  unit_price\n",
      "0      1001 2025-09-30     Juan     Panel A         2       250.0\n",
      "1      1002 2025-09-30    María     Panel B         1       300.0\n",
      "2      1003 2025-10-01   Carlos  Inversor X         1      1200.0\n",
      "3      1004 2025-10-01      Ana     Panel A         3       250.0\n",
      "4      1005 2025-10-02    María  Inversor X         2      1200.0\n",
      "\n",
      "Filtrado:\n",
      "    order_id       date customer     product  quantity  unit_price  region  \\\n",
      "0      1001 2025-09-30     Juan     Panel A         2       250.0  Bogotá   \n",
      "4      1005 2025-10-02    María  Inversor X         2      1200.0  Bogotá   \n",
      "\n",
      "   year  month  \n",
      "0  2025      9  \n",
      "4  2025     10  \n",
      "\n",
      "Renombrado columnas:\n",
      "    order_id       date customer     product  quantity  price_unit    region  \\\n",
      "0      1001 2025-09-30     Juan     Panel A         2       250.0    Bogotá   \n",
      "1      1002 2025-09-30    María     Panel B         1       300.0  Medellín   \n",
      "2      1003 2025-10-01   Carlos  Inversor X         1      1200.0    Bogotá   \n",
      "3      1004 2025-10-01      Ana     Panel A         3       250.0      Cali   \n",
      "4      1005 2025-10-02    María  Inversor X         2      1200.0    Bogotá   \n",
      "\n",
      "   year  month  \n",
      "0  2025      9  \n",
      "1  2025      9  \n",
      "2  2025     10  \n",
      "3  2025     10  \n",
      "4  2025     10  \n"
     ]
    }
   ],
   "source": [
    "# Selección y filtrado\n",
    "# Seleccionar columnas\n",
    "cols = df[['order_id','date','customer','product','quantity','unit_price']]\n",
    "print(cols.head())\n",
    "\n",
    "# Filtrar: ventas en Bogotá con quantity >= 2\n",
    "bogota_mayor2 = df[(df['region']=='Bogotá') & (df['quantity']>=2)]\n",
    "print('\\nFiltrado:\\n', bogota_mayor2)\n",
    "\n",
    "# Renombrar columnas\n",
    "df_renamed = df.rename(columns={'unit_price':'price_unit'})\n",
    "print('\\nRenombrado columnas:\\n', df_renamed.head())"
   ]
  },
  {
   "cell_type": "markdown",
   "id": "2e0d7ea1",
   "metadata": {},
   "source": [
    "### Nuevas columnas y operaciones vectorizadas\n",
    "\n",
    "- Evitar ciclos. Usar operaciones sobre columnas enteras (vectorizadas).\n",
    "- Ejemplo: `df['total'] = df['quantity'] * df['unit_price']`.\n"
   ]
  },
  {
   "cell_type": "code",
   "execution_count": 10,
   "id": "b22135bf",
   "metadata": {},
   "outputs": [
    {
     "name": "stdout",
     "output_type": "stream",
     "text": [
      "   order_id       date customer     product  quantity  unit_price    region  \\\n",
      "0      1001 2025-09-30     Juan     Panel A         2       250.0    Bogotá   \n",
      "1      1002 2025-09-30    María     Panel B         1       300.0  Medellín   \n",
      "2      1003 2025-10-01   Carlos  Inversor X         1      1200.0    Bogotá   \n",
      "3      1004 2025-10-01      Ana     Panel A         3       250.0      Cali   \n",
      "4      1005 2025-10-02    María  Inversor X         2      1200.0    Bogotá   \n",
      "5      1006 2025-10-02     Juan     Panel B         1       300.0  Medellín   \n",
      "\n",
      "   year  month   total customer_lower  \n",
      "0  2025      9   500.0           juan  \n",
      "1  2025      9   300.0          maría  \n",
      "2  2025     10  1200.0         carlos  \n",
      "3  2025     10   750.0            ana  \n",
      "4  2025     10  2400.0          maría  \n",
      "5  2025     10   300.0           juan  \n",
      "\n",
      "Ordenado por total desc:\n",
      "    order_id       date customer     product  quantity  unit_price    region  \\\n",
      "4      1005 2025-10-02    María  Inversor X         2      1200.0    Bogotá   \n",
      "2      1003 2025-10-01   Carlos  Inversor X         1      1200.0    Bogotá   \n",
      "3      1004 2025-10-01      Ana     Panel A         3       250.0      Cali   \n",
      "0      1001 2025-09-30     Juan     Panel A         2       250.0    Bogotá   \n",
      "1      1002 2025-09-30    María     Panel B         1       300.0  Medellín   \n",
      "5      1006 2025-10-02     Juan     Panel B         1       300.0  Medellín   \n",
      "\n",
      "   year  month   total customer_lower  \n",
      "4  2025     10  2400.0          maría  \n",
      "2  2025     10  1200.0         carlos  \n",
      "3  2025     10   750.0            ana  \n",
      "0  2025      9   500.0           juan  \n",
      "1  2025      9   300.0          maría  \n",
      "5  2025     10   300.0           juan  \n"
     ]
    }
   ],
   "source": [
    "# Crear columna 'total' y otras transformaciones\n",
    "_df = df.copy()\n",
    "_df['total'] = _df['quantity'] * _df['unit_price']\n",
    "_df['customer_lower'] = _df['customer'].str.lower()\n",
    "print(_df)\n",
    "\n",
    "# Operaciones rápidas: ordenar\n",
    "print('\\nOrdenado por total desc:\\n', _df.sort_values('total', ascending=False))"
   ]
  },
  {
   "cell_type": "markdown",
   "id": "218cb839",
   "metadata": {},
   "source": [
    "### Agrupaciones y agregaciones (`groupby`)\n",
    "\n",
    "- `groupby` + `agg` para sumar, contar, promedio, etc.\n",
    "- `pivot_table` para tablas pivote.\n"
   ]
  },
  {
   "cell_type": "code",
   "execution_count": 11,
   "id": "82f31c8e",
   "metadata": {},
   "outputs": [
    {
     "name": "stdout",
     "output_type": "stream",
     "text": [
      "      product    region  total_qty  sales_value  orders\n",
      "0  Inversor X    Bogotá          3       3600.0       2\n",
      "1     Panel A    Bogotá          2        500.0       1\n",
      "2     Panel A      Cali          3        750.0       1\n",
      "3     Panel B  Medellín          2        600.0       2\n",
      "\n",
      "Pivot table:\n",
      " region      Bogotá   Cali  Medellín\n",
      "product                            \n",
      "Inversor X  3600.0    0.0       0.0\n",
      "Panel A      500.0  750.0       0.0\n",
      "Panel B        0.0    0.0     600.0\n"
     ]
    }
   ],
   "source": [
    "# Agrupar por producto y región\n",
    "gb = _df.groupby(['product','region']).agg(\n",
    "    total_qty = ('quantity','sum'),\n",
    "    sales_value = ('total','sum'),\n",
    "    orders = ('order_id','count')\n",
    ").reset_index()\n",
    "print(gb)\n",
    "\n",
    "# Pivot table: ventas por producto x región\n",
    "pivot = pd.pivot_table(_df, index='product', columns='region', values='total', aggfunc='sum', fill_value=0)\n",
    "print('\\nPivot table:\\n', pivot)"
   ]
  },
  {
   "cell_type": "markdown",
   "id": "13ff9b52",
   "metadata": {},
   "source": [
    "### Merge / Join\n",
    "\n",
    "- Unir DataFrames con `pd.merge()` (inner, left, right, outer).\n",
    "- Útil cuando traes catálogos o dimensiones desde otros archivos.\n"
   ]
  },
  {
   "cell_type": "code",
   "execution_count": 12,
   "id": "9913e1dd",
   "metadata": {},
   "outputs": [
    {
     "name": "stdout",
     "output_type": "stream",
     "text": [
      "Products catalog:\n",
      "       product  category  weight_kg\n",
      "0     Panel A     Panel         15\n",
      "1     Panel B     Panel         17\n",
      "2  Inversor X  Inversor          8\n",
      "\n",
      "Merged:\n",
      "    order_id       date customer     product  quantity  unit_price    region  \\\n",
      "0      1001 2025-09-30     Juan     Panel A         2       250.0    Bogotá   \n",
      "1      1002 2025-09-30    María     Panel B         1       300.0  Medellín   \n",
      "2      1003 2025-10-01   Carlos  Inversor X         1      1200.0    Bogotá   \n",
      "3      1004 2025-10-01      Ana     Panel A         3       250.0      Cali   \n",
      "4      1005 2025-10-02    María  Inversor X         2      1200.0    Bogotá   \n",
      "5      1006 2025-10-02     Juan     Panel B         1       300.0  Medellín   \n",
      "\n",
      "   year  month   total customer_lower  category  weight_kg  \n",
      "0  2025      9   500.0           juan     Panel         15  \n",
      "1  2025      9   300.0          maría     Panel         17  \n",
      "2  2025     10  1200.0         carlos  Inversor          8  \n",
      "3  2025     10   750.0            ana     Panel         15  \n",
      "4  2025     10  2400.0          maría  Inversor          8  \n",
      "5  2025     10   300.0           juan     Panel         17  \n"
     ]
    }
   ],
   "source": [
    "# Ejemplo de merge: catálogo de productos\n",
    "products = pd.DataFrame({'product':['Panel A','Panel B','Inversor X'], 'category':['Panel','Panel','Inversor'], 'weight_kg':[15,17,8]})\n",
    "print('Products catalog:\\n', products)\n",
    "merged = pd.merge(_df, products, on='product', how='left')\n",
    "print('\\nMerged:\\n', merged)"
   ]
  },
  {
   "cell_type": "markdown",
   "id": "6d725652",
   "metadata": {},
   "source": [
    "### `apply`, `map`, `transform`\n",
    "\n",
    "- `apply` para aplicar funciones fila a fila o columna a columna.\n",
    "- Prefiere funciones vectorizadas; `apply` suele ser más lento, pero útil cuando no hay alternativa.\n"
   ]
  },
  {
   "cell_type": "code",
   "execution_count": 13,
   "id": "fe63ce03",
   "metadata": {},
   "outputs": [
    {
     "name": "stdout",
     "output_type": "stream",
     "text": [
      "      product  category category_short\n",
      "0     Panel A     Panel            Pan\n",
      "1     Panel B     Panel            Pan\n",
      "2  Inversor X  Inversor            Inv\n",
      "3     Panel A     Panel            Pan\n",
      "4  Inversor X  Inversor            Inv\n",
      "5     Panel B     Panel            Pan\n"
     ]
    }
   ],
   "source": [
    "# Uso de apply para crear una columna categórica\n",
    "merged['category_short'] = merged['category'].apply(lambda x: 'Inv' if x=='Inversor' else 'Pan')\n",
    "print(merged[['product','category','category_short']])"
   ]
  },
  {
   "cell_type": "markdown",
   "id": "0d3bf6cd",
   "metadata": {},
   "source": [
    "## ETL: ejemplo completo\n",
    "\n",
    "1. **Extract**: leer CSV.\n",
    "2. **Transform**: limpiar nulos, corregir tipos, crear columnas, agregar/filtrar.\n",
    "3. **Load**: exportar a base de datos (SQLite) usando `to_sql`.\n",
    "\n",
    "A continuación haremos todo el flujo y dejaremos una tabla `sales_clean` lista para subir a cualquier SGBD."
   ]
  },
  {
   "cell_type": "code",
   "execution_count": null,
   "id": "6ea420c9",
   "metadata": {},
   "outputs": [],
   "source": [
    "# ETL completo\n",
    "# Extract\n",
    "raw = pd.read_csv(csv_path)\n",
    "\n",
    "# Transform\n",
    "raw['date'] = pd.to_datetime(raw['date'], errors='coerce')\n",
    "raw = raw.dropna(subset=['date'])  # quitar filas sin fecha\n",
    "raw['quantity'] = raw['quantity'].fillna(0).astype(int)\n",
    "raw['unit_price'] = raw['unit_price'].astype(float)\n",
    "raw['total'] = raw['quantity'] * raw['unit_price']\n",
    "\n",
    "# Normalizar nombres de cliente\n",
    "raw['customer'] = raw['customer'].str.strip().fillna('Desconocido')\n",
    "\n",
    "# Agregar identificador único si no existe\n",
    "if 'id' not in raw.columns:\n",
    "    raw = raw.reset_index().rename(columns={'index':'id'})\n",
    "\n",
    "# Seleccionar columnas finales\n",
    "final = raw[['id','order_id','date','customer','product','quantity','unit_price','total','region']]\n",
    "print('Final ETL result:')\n",
    "print(final)\n",
    "\n",
    "# Load -> SQLite (ejemplo local)\n",
    "engine = create_engine('sqlite:////mnt/data/sales_etl.db')\n",
    "final.to_sql('sales_clean', con=engine, if_exists='replace', index=False)\n",
    "print('\\nTabla `sales_clean` escrita en SQLite en /mnt/data/sales_etl.db')"
   ]
  },
  {
   "cell_type": "code",
   "execution_count": null,
   "id": "c42a7697",
   "metadata": {},
   "outputs": [],
   "source": [
    "# Leer desde SQLite para confirmar\n",
    "engine = create_engine('sqlite:////mnt/data/sales_etl.db')\n",
    "check = pd.read_sql('sales_clean', con=engine)\n",
    "print(check.head())"
   ]
  },
  {
   "cell_type": "markdown",
   "id": "6fb0ad2d",
   "metadata": {},
   "source": [
    "### Exportar y siguientes pasos\n",
    "\n",
    "- `df.to_csv()` para CSV.\n",
    "- `df.to_parquet()` para formatos colunar (más eficientes).\n",
    "- `df.to_sql()` para cargar directamente a bases de datos.\n",
    "\n",
    "Consejo: validar esquemas y tipos antes de subir a producción; usar migraciones o scripts SQL para crear tablas con tipos fijos."
   ]
  },
  {
   "cell_type": "markdown",
   "id": "3a8d8251",
   "metadata": {},
   "source": [
    "## Sugerencias de ejercicios para la clase\n",
    "\n",
    "1. Añadir una columna `discount` que dependa del valor total y aplicarla.\n",
    "2. Detectar clientes recurrentes y crear una tabla `customers` con recuento de órdenes.\n",
    "3. Simular datos faltantes y practicar `fillna` y `interpolate`.\n",
    "4. Hacer ETL para varias fuentes (CSV + Excel) y unirlas.\n",
    "\n",
    "---\n",
    "\n",
    "Fin del cuaderno. Si quieres, puedo:\n",
    "- Ajustar el cuaderno para tus datos reales.\n",
    "- Añadir una sección sobre `dtypes` y validación con `pandera`.\n",
    "- Generar una presentación con los puntos principales para tus diapositivas."
   ]
  }
 ],
 "metadata": {
  "kernelspec": {
   "display_name": "venv",
   "language": "python",
   "name": "python3"
  },
  "language_info": {
   "codemirror_mode": {
    "name": "ipython",
    "version": 3
   },
   "file_extension": ".py",
   "mimetype": "text/x-python",
   "name": "python",
   "nbconvert_exporter": "python",
   "pygments_lexer": "ipython3",
   "version": "3.11.0"
  }
 },
 "nbformat": 4,
 "nbformat_minor": 5
}
