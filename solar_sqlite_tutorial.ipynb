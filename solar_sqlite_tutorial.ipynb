{
 "cells": [
  {
   "cell_type": "markdown",
   "id": "63c9ef14",
   "metadata": {},
   "source": [
    "# Tutorial: Base de datos SQLite para proyectos solares (desde Python)\n",
    "\n",
    "**Objetivo:**  \n",
    "Crear una base de datos SQLite desde Python que modele proyectos solares, sistemas por proyecto, y datos meteorológicos y eléctricos por sistema. Además veremos cómo cargar datos eléctricos desde un CSV y realizar consultas simples.\n",
    "\n",
    "Este notebook está pensado para usar en una clase — cada celda tiene una explicación y código ejecutable.\n"
   ]
  },
  {
   "cell_type": "markdown",
   "id": "6ba7077a",
   "metadata": {},
   "source": [
    "## Requisitos\n",
    "\n",
    "- Python 3.8+  \n",
    "- `pandas` para la ingestión de CSV (instálalo si no lo tienes).\n",
    "\n",
    "Puedes instalar pandas (si no está instalado) ejecutando la celda siguiente."
   ]
  },
  {
   "cell_type": "code",
   "execution_count": 2,
   "id": "b7acbdd5",
   "metadata": {},
   "outputs": [
    {
     "name": "stdout",
     "output_type": "stream",
     "text": [
      "Requirement already satisfied: pandas in c:\\users\\carloscm\\documents\\maestria\\curso analisis de datos\\clase 3\\venv\\lib\\site-packages (2.3.3)\n",
      "Requirement already satisfied: numpy>=1.23.2 in c:\\users\\carloscm\\documents\\maestria\\curso analisis de datos\\clase 3\\venv\\lib\\site-packages (from pandas) (2.3.3)\n",
      "Requirement already satisfied: python-dateutil>=2.8.2 in c:\\users\\carloscm\\documents\\maestria\\curso analisis de datos\\clase 3\\venv\\lib\\site-packages (from pandas) (2.9.0.post0)\n",
      "Requirement already satisfied: pytz>=2020.1 in c:\\users\\carloscm\\documents\\maestria\\curso analisis de datos\\clase 3\\venv\\lib\\site-packages (from pandas) (2025.2)\n",
      "Requirement already satisfied: tzdata>=2022.7 in c:\\users\\carloscm\\documents\\maestria\\curso analisis de datos\\clase 3\\venv\\lib\\site-packages (from pandas) (2025.2)\n",
      "Requirement already satisfied: six>=1.5 in c:\\users\\carloscm\\documents\\maestria\\curso analisis de datos\\clase 3\\venv\\lib\\site-packages (from python-dateutil>=2.8.2->pandas) (1.17.0)\n",
      "Revisa si pandas está instalado; si no, instala con: pip install pandas\n"
     ]
    }
   ],
   "source": [
    "# Si necesitas instalar pandas, descomenta la siguiente línea:\n",
    "!pip install pandas\n",
    "print('Revisa si pandas está instalado; si no, instala con: pip install pandas')"
   ]
  },
  {
   "cell_type": "markdown",
   "id": "58986465",
   "metadata": {},
   "source": [
    "## Importaciones y utilidades\n",
    "\n",
    "En esta celda definimos funciones utilitarias para conectarnos a SQLite y ajustes de rendimiento (PRAGMA).\n"
   ]
  },
  {
   "cell_type": "code",
   "execution_count": 3,
   "id": "926c82c2",
   "metadata": {},
   "outputs": [
    {
     "name": "stdout",
     "output_type": "stream",
     "text": [
      "Funciones utilitarias definidas: get_connection\n"
     ]
    }
   ],
   "source": [
    "import sqlite3\n",
    "from datetime import datetime\n",
    "from typing import Optional, Dict, Any\n",
    "import os\n",
    "\n",
    "def get_connection(db_path: str) -> sqlite3.Connection:\n",
    "    conn = sqlite3.connect(db_path, detect_types=sqlite3.PARSE_DECLTYPES | sqlite3.PARSE_COLNAMES)\n",
    "    conn.execute(\"PRAGMA foreign_keys = ON;\")\n",
    "    conn.execute(\"PRAGMA synchronous = NORMAL;\")\n",
    "    conn.execute(\"PRAGMA journal_mode = WAL;\")\n",
    "    return conn\n",
    "\n",
    "print('Funciones utilitarias definidas: get_connection')"
   ]
  },
  {
   "cell_type": "markdown",
   "id": "c6d4a788",
   "metadata": {},
   "source": [
    "## Crear la estructura de la base de datos\n",
    "\n",
    "Creamos tablas: `projects`, `systems`, `meteo_data` y `electrical_data`, más índices útiles.\n"
   ]
  },
  {
   "cell_type": "code",
   "execution_count": 4,
   "id": "1833dfeb",
   "metadata": {},
   "outputs": [
    {
     "name": "stdout",
     "output_type": "stream",
     "text": [
      "Función create_db definida\n"
     ]
    }
   ],
   "source": [
    "def create_db(db_path: str):\n",
    "    conn = get_connection(db_path)\n",
    "    cur = conn.cursor()\n",
    "\n",
    "    cur.execute(\"\"\"\n",
    "    CREATE TABLE IF NOT EXISTS projects (\n",
    "        id INTEGER PRIMARY KEY AUTOINCREMENT,\n",
    "        name TEXT NOT NULL,\n",
    "        location TEXT,\n",
    "        description TEXT,\n",
    "        created_at TEXT NOT NULL DEFAULT (datetime('now'))\n",
    "    );\n",
    "    \"\"\")\n",
    "\n",
    "    cur.execute(\"\"\"\n",
    "    CREATE TABLE IF NOT EXISTS systems (\n",
    "        id INTEGER PRIMARY KEY AUTOINCREMENT,\n",
    "        project_id INTEGER NOT NULL,\n",
    "        name TEXT NOT NULL,\n",
    "        capacity_kw REAL,\n",
    "        inverter_type TEXT,\n",
    "        notes TEXT,\n",
    "        created_at TEXT NOT NULL DEFAULT (datetime('now')),\n",
    "        FOREIGN KEY (project_id) REFERENCES projects(id) ON DELETE CASCADE ON UPDATE CASCADE\n",
    "    );\n",
    "    \"\"\")\n",
    "\n",
    "    cur.execute(\"\"\"\n",
    "    CREATE TABLE IF NOT EXISTS meteo_data (\n",
    "        id INTEGER PRIMARY KEY AUTOINCREMENT,\n",
    "        system_id INTEGER NOT NULL,\n",
    "        timestamp TEXT NOT NULL,\n",
    "        ghi REAL,\n",
    "        dni REAL,\n",
    "        dhi REAL,\n",
    "        temp_c REAL,\n",
    "        wind_m_s REAL,\n",
    "        precip_mm REAL,\n",
    "        source TEXT,\n",
    "        inserted_at TEXT NOT NULL DEFAULT (datetime('now')),\n",
    "        FOREIGN KEY (system_id) REFERENCES systems(id) ON DELETE CASCADE\n",
    "    );\n",
    "    \"\"\")\n",
    "\n",
    "    cur.execute(\"\"\"\n",
    "    CREATE TABLE IF NOT EXISTS electrical_data (\n",
    "        id INTEGER PRIMARY KEY AUTOINCREMENT,\n",
    "        system_id INTEGER NOT NULL,\n",
    "        timestamp TEXT NOT NULL,\n",
    "        power_kw REAL,\n",
    "        voltage_v REAL,\n",
    "        current_a REAL,\n",
    "        energy_kwh REAL,\n",
    "        status TEXT,\n",
    "        inserted_at TEXT NOT NULL DEFAULT (datetime('now')),\n",
    "        FOREIGN KEY (system_id) REFERENCES systems(id) ON DELETE CASCADE\n",
    "    );\n",
    "    \"\"\")\n",
    "\n",
    "    cur.execute(\"CREATE INDEX IF NOT EXISTS idx_systems_project ON systems(project_id);\")\n",
    "    cur.execute(\"CREATE INDEX IF NOT EXISTS idx_meteo_system_time ON meteo_data(system_id, timestamp);\")\n",
    "    cur.execute(\"CREATE INDEX IF NOT EXISTS idx_elec_system_time ON electrical_data(system_id, timestamp);\")\n",
    "\n",
    "    conn.commit()\n",
    "    conn.close()\n",
    "    print(f'BD creada en: {db_path}')\n",
    "\n",
    "# Probar creación de DB en archivo temporal (no lo ejecutamos aun)\n",
    "print('Función create_db definida')"
   ]
  },
  {
   "cell_type": "markdown",
   "id": "554f696d",
   "metadata": {},
   "source": [
    "## Funciones CRUD sencillas\n",
    "\n",
    "Funciones para añadir proyectos y sistemas (devuelven el id insertado).\n"
   ]
  },
  {
   "cell_type": "code",
   "execution_count": 5,
   "id": "a2908248",
   "metadata": {},
   "outputs": [
    {
     "name": "stdout",
     "output_type": "stream",
     "text": [
      "Funciones add_project y add_system definidas\n"
     ]
    }
   ],
   "source": [
    "def add_project(db_path: str, name: str, location: Optional[str] = None, description: Optional[str] = None) -> int:\n",
    "    conn = get_connection(db_path)\n",
    "    cur = conn.cursor()\n",
    "    cur.execute(\"INSERT INTO projects (name, location, description) VALUES (?, ?, ?);\", (name, location, description))\n",
    "    conn.commit()\n",
    "    project_id = cur.lastrowid\n",
    "    conn.close()\n",
    "    return project_id\n",
    "\n",
    "def add_system(db_path: str, project_id: int, name: str, capacity_kw: Optional[float] = None,\n",
    "               inverter_type: Optional[str] = None, notes: Optional[str] = None) -> int:\n",
    "    conn = get_connection(db_path)\n",
    "    cur = conn.cursor()\n",
    "    cur.execute(\n",
    "        \"INSERT INTO systems (project_id, name, capacity_kw, inverter_type, notes) VALUES (?, ?, ?, ?, ?);\",\n",
    "        (project_id, name, capacity_kw, inverter_type, notes)\n",
    "    )\n",
    "    conn.commit()\n",
    "    system_id = cur.lastrowid\n",
    "    conn.close()\n",
    "    return system_id\n",
    "\n",
    "print('Funciones add_project y add_system definidas')"
   ]
  },
  {
   "cell_type": "markdown",
   "id": "1b81bbca",
   "metadata": {},
   "source": [
    "## Ingestión de CSV de datos eléctricos\n",
    "\n",
    "La función siguiente usa `pandas` para leer CSV por chunks y hace inserciones por lotes. Si no tienes pandas instalado, instala con `pip install pandas`.\n"
   ]
  },
  {
   "cell_type": "code",
   "execution_count": 6,
   "id": "2542dbe3",
   "metadata": {},
   "outputs": [
    {
     "name": "stdout",
     "output_type": "stream",
     "text": [
      "Función ingest_electrical_csv definida (requiere pandas para ejecutarse)\n"
     ]
    }
   ],
   "source": [
    "# Definimos la función pero sólo usaremos pandas si está disponible en el entorno.\n",
    "try:\n",
    "    import pandas as pd\n",
    "except Exception:\n",
    "    pd = None\n",
    "\n",
    "def _safe_float(x):\n",
    "    try:\n",
    "        if x is None:\n",
    "            return None\n",
    "        s = str(x).strip()\n",
    "        if s == '' or s.lower() in ('nan', 'none', 'null'):\n",
    "            return None\n",
    "        s = s.replace(',', '.')\n",
    "        return float(s)\n",
    "    except Exception:\n",
    "        return None\n",
    "\n",
    "def _safe_str(x):\n",
    "    if x is None:\n",
    "        return None\n",
    "    s = str(x).strip()\n",
    "    return s if s != '' else None\n",
    "\n",
    "def ingest_electrical_csv(db_path: str, system_id: int, csv_path: str,\n",
    "                          timestamp_col: str = 'timestamp',\n",
    "                          col_mappings: Optional[Dict[str, str]] = None,\n",
    "                          chunk_size: int = 1000):\n",
    "    if pd is None:\n",
    "        raise ImportError('Para usar ingest_electrical_csv necesitas instalar pandas: pip install pandas')\n",
    "\n",
    "    if not os.path.exists(csv_path):\n",
    "        raise FileNotFoundError(f'No existe el archivo CSV: {csv_path}')\n",
    "\n",
    "    default_map = {\n",
    "        'timestamp': 'timestamp',\n",
    "        'time': 'timestamp',\n",
    "        'datetime': 'timestamp',\n",
    "        'power_kw': 'power_kw',\n",
    "        'power_kW': 'power_kw',\n",
    "        'power': 'power_kw',\n",
    "        'voltage_v': 'voltage_v',\n",
    "        'voltage': 'voltage_v',\n",
    "        'current_a': 'current_a',\n",
    "        'current': 'current_a',\n",
    "        'energy_kwh': 'energy_kwh',\n",
    "        'energy': 'energy_kwh',\n",
    "        'status': 'status'\n",
    "    }\n",
    "    if col_mappings:\n",
    "        combined_map = {**default_map, **{k: v for k, v in col_mappings.items()}}\n",
    "    else:\n",
    "        combined_map = default_map\n",
    "\n",
    "    df_iter = pd.read_csv(csv_path, chunksize=chunk_size, iterator=True)\n",
    "\n",
    "    conn = get_connection(db_path)\n",
    "    cur = conn.cursor()\n",
    "    total_inserted = 0\n",
    "    for chunk_df in df_iter:\n",
    "        chunk_df.columns = [c.strip() for c in chunk_df.columns]\n",
    "        col_map_existing = {}\n",
    "        for c in chunk_df.columns:\n",
    "            lower = c.lower()\n",
    "            if lower in combined_map:\n",
    "                col_map_existing[c] = combined_map[lower]\n",
    "            elif lower in {'timestamp', 'power_kw', 'voltage_v', 'current_a', 'energy_kwh', 'status'}:\n",
    "                col_map_existing[c] = lower\n",
    "\n",
    "        if not any(v == 'timestamp' for v in col_map_existing.values()):\n",
    "            raise ValueError(f'El CSV no tiene una columna de timestamp reconocida. Columnas detectadas: {list(chunk_df.columns)}')\n",
    "\n",
    "        df_to_insert = pd.DataFrame()\n",
    "        for src_col, target_col in col_map_existing.items():\n",
    "            df_to_insert[target_col] = chunk_df[src_col]\n",
    "\n",
    "        df_to_insert['timestamp'] = pd.to_datetime(df_to_insert['timestamp'], infer_datetime_format=True, errors='coerce')\n",
    "        df_to_insert = df_to_insert.dropna(subset=['timestamp'])\n",
    "        df_to_insert['timestamp'] = df_to_insert['timestamp'].dt.strftime('%Y-%m-%d %H:%M:%S')\n",
    "\n",
    "        for col in ['power_kw', 'voltage_v', 'current_a', 'energy_kwh', 'status']:\n",
    "            if col not in df_to_insert.columns:\n",
    "                df_to_insert[col] = None\n",
    "\n",
    "        rows = [\n",
    "            (system_id,\n",
    "             row['timestamp'],\n",
    "             _safe_float(row['power_kw']),\n",
    "             _safe_float(row['voltage_v']),\n",
    "             _safe_float(row['current_a']),\n",
    "             _safe_float(row['energy_kwh']),\n",
    "             _safe_str(row['status']))\n",
    "            for _, row in df_to_insert.iterrows()\n",
    "        ]\n",
    "\n",
    "        try:\n",
    "            cur.executemany(\n",
    "                \"INSERT INTO electrical_data (system_id, timestamp, power_kw, voltage_v, current_a, energy_kwh, status) VALUES (?, ?, ?, ?, ?, ?, ?);\",\n",
    "                rows\n",
    "            )\n",
    "            conn.commit()\n",
    "            total_inserted += len(rows)\n",
    "            print(f'  Insertadas {len(rows)} filas (acumulado: {total_inserted})')\n",
    "        except Exception as e:\n",
    "            conn.rollback()\n",
    "            raise RuntimeError(f'Error insertando chunk en DB: {e}')\n",
    "\n",
    "    conn.close()\n",
    "    print(f'Ingestión terminada. Total filas insertadas: {total_inserted}')\n",
    "\n",
    "print('Función ingest_electrical_csv definida (requiere pandas para ejecutarse)')"
   ]
  },
  {
   "cell_type": "markdown",
   "id": "6c99503e",
   "metadata": {},
   "source": [
    "## Ejemplo: crear DB y añadir un proyecto y sistemas\n",
    "\n",
    "Ejecuta la siguiente celda para crear la base de datos (archivo `solar_projects.db`) y añadir un proyecto con dos sistemas.\n"
   ]
  },
  {
   "cell_type": "code",
   "execution_count": 7,
   "id": "6c5c65f2",
   "metadata": {},
   "outputs": [
    {
     "name": "stdout",
     "output_type": "stream",
     "text": [
      "BD creada en: solar_projects.db\n",
      "Proyecto creado con id: 1\n",
      "Sistemas creados: 1 2\n"
     ]
    }
   ],
   "source": [
    "DB = 'solar_projects.db'\n",
    "create_db(DB)\n",
    "\n",
    "proyecto_id = add_project(DB, name='Clase - Parque Solar Demo', location='Campus', description='Proyecto demo para clase')\n",
    "print('Proyecto creado con id:', proyecto_id)\n",
    "\n",
    "sys1 = add_system(DB, proyecto_id, 'Array Este', capacity_kw=1500.0, inverter_type='String', notes='Demo Este')\n",
    "sys2 = add_system(DB, proyecto_id, 'Array Oeste', capacity_kw=1000.0, inverter_type='Central', notes='Demo Oeste')\n",
    "print('Sistemas creados:', sys1, sys2)"
   ]
  },
  {
   "cell_type": "markdown",
   "id": "a5de7e71",
   "metadata": {},
   "source": [
    "## Generar un CSV de ejemplo (datos eléctricos) y probar la ingestión\n",
    "\n",
    "La siguiente celda crea un CSV sintético con columnas típicas usadas (timestamp, power_kW, voltage, current, energy, status).\n"
   ]
  },
  {
   "cell_type": "code",
   "execution_count": 8,
   "id": "18a8afd7",
   "metadata": {},
   "outputs": [
    {
     "name": "stdout",
     "output_type": "stream",
     "text": [
      "CSV de ejemplo creado: datos_electricos_ejemplo22.csv\n"
     ]
    }
   ],
   "source": [
    "import csv\n",
    "from datetime import datetime, timedelta\n",
    "\n",
    "sample_csv = 'datos_electricos_ejemplo22.csv'\n",
    "start = datetime(2025, 10, 1, 0, 0)\n",
    "rows = []\n",
    "for i in range(24):  # 24 filas horarias de ejemplo\n",
    "    t = start + timedelta(hours=i)\n",
    "    power = max(0, 500 * (1 - abs(12 - i)/12))  # forma triangular simple para ejemplo\n",
    "    voltage = 400 + (i % 3)  # variación pequeña\n",
    "    current = power / (voltage if voltage!=0 else 1)\n",
    "    energy = power / 1000.0  # kWh si fuera promedio en 1 hour\n",
    "    status = 'OK' if power > 0 else 'NO_GEN'\n",
    "    rows.append([t.strftime('%Y-%m-%d %H:%M:%S'), round(power,2), round(voltage,2), round(current,3), round(energy,4), status])\n",
    "\n",
    "with open(sample_csv, 'w', newline='', encoding='utf-8') as f:\n",
    "    writer = csv.writer(f)\n",
    "    writer.writerow(['timestamp','power_kW','voltage','current','energy','status'])\n",
    "    writer.writerows(rows)\n",
    "\n",
    "print('CSV de ejemplo creado:', sample_csv)\n",
    "\n"
   ]
  },
  {
   "cell_type": "markdown",
   "id": "a7f1ab27",
   "metadata": {},
   "source": [
    "## Ingestar el CSV de ejemplo\n",
    "\n",
    "Si tienes `pandas` instalado, ejecuta la celda siguiente para cargar el CSV de ejemplo en la tabla `electrical_data` del sistema `sys1` creado antes.\n"
   ]
  },
  {
   "cell_type": "code",
   "execution_count": 11,
   "id": "2bb85e30",
   "metadata": {},
   "outputs": [
    {
     "name": "stdout",
     "output_type": "stream",
     "text": [
      "  Insertadas 24 filas (acumulado: 24)\n",
      "Ingestión terminada. Total filas insertadas: 24\n"
     ]
    },
    {
     "name": "stderr",
     "output_type": "stream",
     "text": [
      "C:\\Users\\carloscm\\AppData\\Local\\Temp\\ipykernel_14136\\2867016042.py:77: UserWarning: The argument 'infer_datetime_format' is deprecated and will be removed in a future version. A strict version of it is now the default, see https://pandas.pydata.org/pdeps/0004-consistent-to-datetime-parsing.html. You can safely remove this argument.\n",
      "  df_to_insert['timestamp'] = pd.to_datetime(df_to_insert['timestamp'], infer_datetime_format=True, errors='coerce')\n"
     ]
    }
   ],
   "source": [
    "# Ejecuta esta celda si tienes pandas instalado en tu entorno.\n",
    "try:\n",
    "    # aseguramos que sys1 esté definido en este scope (si el usuario re-ejecutó celdas en orden correcto)\n",
    "    system_id = globals().get('sys1', None)\n",
    "    if system_id is None:\n",
    "        raise NameError('system_id (sys1) no encontrado. Ejecuta primero la celda que crea proyecto y sistemas.')\n",
    "\n",
    "    # ingest (esto requiere pandas)\n",
    "    ingest_electrical_csv(DB, system_id, 'datos_electricos_ejemplo22.csv')\n",
    "except Exception as e:\n",
    "    print('No se pudo ingestar CSV:', e)"
   ]
  },
  {
   "cell_type": "markdown",
   "id": "fc892301",
   "metadata": {},
   "source": [
    "## Consultar datos insertados\n",
    "\n",
    "Consulta sencilla para mostrar las primeras filas insertadas en `electrical_data` para `sys1`.\n"
   ]
  },
  {
   "cell_type": "code",
   "execution_count": 12,
   "id": "db8c9e9d",
   "metadata": {},
   "outputs": [
    {
     "name": "stdout",
     "output_type": "stream",
     "text": [
      "(1, 1, '2025-10-01 00:00:00', 0.0, 400.0, 0.0, 0.0, 'NO_GEN')\n",
      "(2, 1, '2025-10-01 01:00:00', 41.67, 401.0, 0.104, 0.0417, 'OK')\n",
      "(3, 1, '2025-10-01 02:00:00', 83.33, 402.0, 0.207, 0.0833, 'OK')\n",
      "(4, 1, '2025-10-01 03:00:00', 125.0, 400.0, 0.312, 0.125, 'OK')\n",
      "(5, 1, '2025-10-01 04:00:00', 166.67, 401.0, 0.416, 0.1667, 'OK')\n",
      "(6, 1, '2025-10-01 05:00:00', 208.33, 402.0, 0.518, 0.2083, 'OK')\n",
      "(7, 1, '2025-10-01 06:00:00', 250.0, 400.0, 0.625, 0.25, 'OK')\n",
      "(8, 1, '2025-10-01 07:00:00', 291.67, 401.0, 0.727, 0.2917, 'OK')\n",
      "(9, 1, '2025-10-01 08:00:00', 333.33, 402.0, 0.829, 0.3333, 'OK')\n",
      "(10, 1, '2025-10-01 09:00:00', 375.0, 400.0, 0.938, 0.375, 'OK')\n"
     ]
    }
   ],
   "source": [
    "import sqlite3\n",
    "conn = get_connection(DB)\n",
    "cur = conn.cursor()\n",
    "system_id = globals().get('sys1', None)\n",
    "if system_id is None:\n",
    "    print('system_id no encontrado. Ejecuta la celda de creación de proyecto/sistemas.')\n",
    "else:\n",
    "    cur.execute('SELECT id, system_id, timestamp, power_kw, voltage_v, current_a, energy_kwh, status FROM electrical_data WHERE system_id = ? ORDER BY timestamp LIMIT 10;', (system_id,))\n",
    "    rows = cur.fetchall()\n",
    "    if not rows:\n",
    "        print('No hay filas en electrical_data para el sistema. Quizá no ejecutaste la ingestión o pandas no está disponible.')\n",
    "    else:\n",
    "        for r in rows:\n",
    "            print(r)\n",
    "conn.close()"
   ]
  },
  {
   "cell_type": "markdown",
   "id": "402bc4c6",
   "metadata": {},
   "source": [
    "---\n",
    "### Notas finales y sugerencias para la clase\n",
    "\n",
    "- Puedes pedir a los estudiantes modificar el CSV (p.ej. cambiar nombres de columnas) y usar `col_mappings` en `ingest_electrical_csv` para mapearlos.  \n",
    "- Agrega validaciones extra según necesites (rangos físicos, detección de duplicados por timestamp, etc.).  \n",
    "- Si la base de datos crecerá mucho, considera usar PostgreSQL para producción; SQLite es ideal para enseñanza y prototipos.  \n",
    "\n",
    "Si quieres, puedo:\n",
    "- Generar una versión del notebook con más ejemplos (p.ej. visualización con matplotlib).  \n",
    "- Añadir una CLI con `argparse` para ejecutar ingestiones desde la terminal.  \n",
    "- Convertir este notebook a un archivo .py o a un PowerPoint con explicaciones.\n"
   ]
  }
 ],
 "metadata": {
  "kernelspec": {
   "display_name": "venv",
   "language": "python",
   "name": "python3"
  },
  "language_info": {
   "codemirror_mode": {
    "name": "ipython",
    "version": 3
   },
   "file_extension": ".py",
   "mimetype": "text/x-python",
   "name": "python",
   "nbconvert_exporter": "python",
   "pygments_lexer": "ipython3",
   "version": "3.11.0"
  }
 },
 "nbformat": 4,
 "nbformat_minor": 5
}
